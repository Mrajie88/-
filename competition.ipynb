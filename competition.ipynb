{
  "nbformat": 4,
  "nbformat_minor": 0,
  "metadata": {
    "colab": {
      "name": "competition.ipynb",
      "provenance": [],
      "toc_visible": true,
      "mount_file_id": "1Vhu1RfmwL4yIzKb9MKpMT7hjFAwydO1H",
      "authorship_tag": "ABX9TyPbBV9RjiCSmiMc9vL3xAv2",
      "include_colab_link": true
    },
    "kernelspec": {
      "name": "python3",
      "display_name": "Python 3"
    }
  },
  "cells": [
    {
      "cell_type": "markdown",
      "metadata": {
        "id": "view-in-github",
        "colab_type": "text"
      },
      "source": [
        "<a href=\"https://colab.research.google.com/github/Mrajie88/-/blob/master/competition.ipynb\" target=\"_parent\"><img src=\"https://colab.research.google.com/assets/colab-badge.svg\" alt=\"Open In Colab\"/></a>"
      ]
    },
    {
      "cell_type": "code",
      "metadata": {
        "id": "57iu6KbhxqAH",
        "colab_type": "code",
        "colab": {}
      },
      "source": [
        "import pandas as pd\n",
        "import numpy as np\n",
        "from matplotlib import pyplot as plt\n",
        "from sklearn.metrics import f1_score\n",
        "from sklearn.model_selection import train_test_split\n",
        "from lightgbm.sklearn import LGBMClassifier\n",
        "import time\n",
        "from mpl_toolkits.mplot3d import Axes3D\n",
        "import os"
      ],
      "execution_count": 0,
      "outputs": []
    },
    {
      "cell_type": "code",
      "metadata": {
        "id": "iqZjBvDECx_1",
        "colab_type": "code",
        "outputId": "771ddd6e-9b78-4154-bb42-f6ff21f2cdf6",
        "colab": {
          "base_uri": "https://localhost:8080/",
          "height": 35
        }
      },
      "source": [
        "os.listdir()"
      ],
      "execution_count": 0,
      "outputs": [
        {
          "output_type": "execute_result",
          "data": {
            "text/plain": [
              "['.config', 'drive', 'sample_data']"
            ]
          },
          "metadata": {
            "tags": []
          },
          "execution_count": 3
        }
      ]
    },
    {
      "cell_type": "code",
      "metadata": {
        "id": "lyzuhz-JCCp1",
        "colab_type": "code",
        "colab": {}
      },
      "source": [
        "path = \"/content/drive/My Drive/\"\n",
        "train_df_source = pd.read_csv(path+'train.csv')\n",
        "test_df_source = pd.read_csv(path+'test.csv')\n",
        "event_df_source = pd.read_csv(path+'event.csv')"
      ],
      "execution_count": 0,
      "outputs": []
    },
    {
      "cell_type": "code",
      "metadata": {
        "id": "czccclZ0Dnf4",
        "colab_type": "code",
        "colab": {}
      },
      "source": [
        "def f_eng(df, event_df, is_train=True):\n",
        "    df = pd.merge(df, event_df.loc[:, ['event_id', 'energymc', 'thetamc', 'phimc', 'xcmc', 'ycmc']], how='left',\n",
        "                  on='event_id')\n",
        "    # df['dis'] = np.sqrt(df['x']**2+df['y']**2+df['t']**2)\n",
        "    # 时间差\n",
        "    df['t_o']=df['t']-df['terror']\n",
        "    df['q_mean'] = df['q']-df['q'].groupby(df['event_id']).transform(np.mean)\n",
        "    df['t_mean'] = df['t']-df['t'].groupby(df['event_id']).transform(np.mean)\n",
        "    if is_train:\n",
        "        df = df.drop('flag', axis=1)\n",
        "    df = df.drop(['hit_id', 'z', 'event_id'], axis=1)\n",
        "    return df"
      ],
      "execution_count": 0,
      "outputs": []
    },
    {
      "cell_type": "code",
      "metadata": {
        "id": "1JpF3-5BDukX",
        "colab_type": "code",
        "outputId": "d6b21cc7-08f2-44cd-b832-55d5093af17b",
        "colab": {
          "base_uri": "https://localhost:8080/",
          "height": 55
        }
      },
      "source": [
        "labels = train_df_source['flag']\n",
        "train_df = f_eng(train_df_source, event_df_source)\n",
        "test_df = f_eng(test_df_source, event_df_source, False)\n",
        "print(train_df.columns.values.tolist())\n",
        "# 小样本训练\n",
        "train_df = train_df.iloc[:3000000, :]\n",
        "labels = labels[:3000000]\n",
        "\n",
        "train_x, val_x, train_y, val_y = train_test_split(train_df, labels, test_size=0.33, random_state=42)\n",
        "\n",
        "threshold = 0.5"
      ],
      "execution_count": 0,
      "outputs": [
        {
          "output_type": "stream",
          "text": [
            "['x', 'y', 't', 'terror', 'q', 'energymc', 'thetamc', 'phimc', 'xcmc', 'ycmc', 't_o', 'q_mean', 't_mean']\n"
          ],
          "name": "stdout"
        }
      ]
    },
    {
      "cell_type": "code",
      "metadata": {
        "id": "I8gMVCI5Dzad",
        "colab_type": "code",
        "colab": {}
      },
      "source": [
        "fea_imp_list = []\n",
        "clf = LGBMClassifier(\n",
        "    learning_rate=0.01,\n",
        "    n_estimators=20000,\n",
        "    num_leaves=255,\n",
        "    subsample=0.9,\n",
        "    colsample_bytree=0.8,\n",
        "    random_state=2019,\n",
        "    metric=None\n",
        ")"
      ],
      "execution_count": 0,
      "outputs": []
    },
    {
      "cell_type": "code",
      "metadata": {
        "id": "YVy1F1wuD5cU",
        "colab_type": "code",
        "outputId": "a5b4ab40-9f30-4cf8-bf48-a4fce775f9dc",
        "colab": {
          "base_uri": "https://localhost:8080/",
          "height": 1000
        }
      },
      "source": [
        "t = time.time()\n",
        "clf.fit(\n",
        "    train_x, train_y,\n",
        "    eval_set=[(val_x, val_y)],\n",
        "    eval_metric='auc',\n",
        "    # categorical_feature=cate_cols,\n",
        "    early_stopping_rounds=200,\n",
        "    # early_stopping_rounds=50,\n",
        "    verbose=50\n",
        ")\n",
        "print('runtime:', time.time() - t)"
      ],
      "execution_count": 0,
      "outputs": [
        {
          "output_type": "stream",
          "text": [
            "Training until validation scores don't improve for 200 rounds.\n",
            "[50]\tvalid_0's auc: 0.968412\n",
            "[100]\tvalid_0's auc: 0.972578\n",
            "[150]\tvalid_0's auc: 0.974786\n",
            "[200]\tvalid_0's auc: 0.977434\n",
            "[250]\tvalid_0's auc: 0.980925\n",
            "[300]\tvalid_0's auc: 0.983867\n",
            "[350]\tvalid_0's auc: 0.986435\n",
            "[400]\tvalid_0's auc: 0.988212\n",
            "[450]\tvalid_0's auc: 0.989675\n",
            "[500]\tvalid_0's auc: 0.991069\n",
            "[550]\tvalid_0's auc: 0.992041\n",
            "[600]\tvalid_0's auc: 0.992702\n",
            "[650]\tvalid_0's auc: 0.993218\n",
            "[700]\tvalid_0's auc: 0.993651\n",
            "[750]\tvalid_0's auc: 0.994002\n",
            "[800]\tvalid_0's auc: 0.994235\n",
            "[850]\tvalid_0's auc: 0.994441\n",
            "[900]\tvalid_0's auc: 0.994589\n",
            "[950]\tvalid_0's auc: 0.994735\n",
            "[1000]\tvalid_0's auc: 0.994856\n",
            "[1050]\tvalid_0's auc: 0.994922\n",
            "[1100]\tvalid_0's auc: 0.994989\n",
            "[1150]\tvalid_0's auc: 0.995045\n",
            "[1200]\tvalid_0's auc: 0.99509\n",
            "[1250]\tvalid_0's auc: 0.995126\n",
            "[1300]\tvalid_0's auc: 0.995188\n",
            "[1350]\tvalid_0's auc: 0.995231\n",
            "[1400]\tvalid_0's auc: 0.995261\n",
            "[1450]\tvalid_0's auc: 0.995294\n",
            "[1500]\tvalid_0's auc: 0.995317\n",
            "[1550]\tvalid_0's auc: 0.995348\n",
            "[1600]\tvalid_0's auc: 0.995378\n",
            "[1650]\tvalid_0's auc: 0.995404\n",
            "[1700]\tvalid_0's auc: 0.995426\n",
            "[1750]\tvalid_0's auc: 0.995465\n",
            "[1800]\tvalid_0's auc: 0.995492\n",
            "[1850]\tvalid_0's auc: 0.995512\n",
            "[1900]\tvalid_0's auc: 0.995529\n",
            "[1950]\tvalid_0's auc: 0.995551\n",
            "[2000]\tvalid_0's auc: 0.995569\n",
            "[2050]\tvalid_0's auc: 0.995589\n",
            "[2100]\tvalid_0's auc: 0.995608\n",
            "[2150]\tvalid_0's auc: 0.995623\n",
            "[2200]\tvalid_0's auc: 0.995644\n",
            "[2250]\tvalid_0's auc: 0.995655\n",
            "[2300]\tvalid_0's auc: 0.995688\n",
            "[2350]\tvalid_0's auc: 0.995708\n",
            "[2400]\tvalid_0's auc: 0.995729\n",
            "[2450]\tvalid_0's auc: 0.995745\n",
            "[2500]\tvalid_0's auc: 0.995763\n",
            "[2550]\tvalid_0's auc: 0.99578\n",
            "[2600]\tvalid_0's auc: 0.995791\n",
            "[2650]\tvalid_0's auc: 0.99581\n",
            "[2700]\tvalid_0's auc: 0.995824\n",
            "[2750]\tvalid_0's auc: 0.995833\n",
            "[2800]\tvalid_0's auc: 0.995846\n",
            "[2850]\tvalid_0's auc: 0.995858\n",
            "[2900]\tvalid_0's auc: 0.99587\n",
            "[2950]\tvalid_0's auc: 0.995879\n",
            "[3000]\tvalid_0's auc: 0.995891\n",
            "[3050]\tvalid_0's auc: 0.995901\n",
            "[3100]\tvalid_0's auc: 0.995908\n",
            "[3150]\tvalid_0's auc: 0.995915\n",
            "[3200]\tvalid_0's auc: 0.995923\n",
            "[3250]\tvalid_0's auc: 0.99593\n",
            "[3300]\tvalid_0's auc: 0.995935\n",
            "[3350]\tvalid_0's auc: 0.995942\n",
            "[3400]\tvalid_0's auc: 0.995948\n",
            "[3450]\tvalid_0's auc: 0.995951\n",
            "[3500]\tvalid_0's auc: 0.995955\n",
            "[3550]\tvalid_0's auc: 0.995958\n",
            "[3600]\tvalid_0's auc: 0.995965\n",
            "[3650]\tvalid_0's auc: 0.995969\n",
            "[3700]\tvalid_0's auc: 0.995982\n",
            "[3750]\tvalid_0's auc: 0.99599\n",
            "[3800]\tvalid_0's auc: 0.995999\n",
            "[3850]\tvalid_0's auc: 0.996009\n",
            "[3900]\tvalid_0's auc: 0.996015\n",
            "[3950]\tvalid_0's auc: 0.996022\n",
            "[4000]\tvalid_0's auc: 0.996028\n",
            "[4050]\tvalid_0's auc: 0.996038\n",
            "[4100]\tvalid_0's auc: 0.996041\n",
            "[4150]\tvalid_0's auc: 0.996046\n",
            "[4200]\tvalid_0's auc: 0.996055\n",
            "[4250]\tvalid_0's auc: 0.996062\n",
            "[4300]\tvalid_0's auc: 0.996067\n",
            "[4350]\tvalid_0's auc: 0.996069\n",
            "[4400]\tvalid_0's auc: 0.996076\n",
            "[4450]\tvalid_0's auc: 0.996084\n",
            "[4500]\tvalid_0's auc: 0.99609\n",
            "[4550]\tvalid_0's auc: 0.996095\n",
            "[4600]\tvalid_0's auc: 0.996099\n",
            "[4650]\tvalid_0's auc: 0.996104\n",
            "[4700]\tvalid_0's auc: 0.99611\n",
            "[4750]\tvalid_0's auc: 0.996113\n",
            "[4800]\tvalid_0's auc: 0.996116\n",
            "[4850]\tvalid_0's auc: 0.99612\n",
            "[4900]\tvalid_0's auc: 0.996124\n",
            "[4950]\tvalid_0's auc: 0.996127\n",
            "[5000]\tvalid_0's auc: 0.996129\n",
            "[5050]\tvalid_0's auc: 0.99613\n",
            "[5100]\tvalid_0's auc: 0.996132\n",
            "[5150]\tvalid_0's auc: 0.996135\n",
            "[5200]\tvalid_0's auc: 0.996136\n",
            "[5250]\tvalid_0's auc: 0.996142\n",
            "[5300]\tvalid_0's auc: 0.996148\n",
            "[5350]\tvalid_0's auc: 0.996151\n",
            "[5400]\tvalid_0's auc: 0.996155\n",
            "[5450]\tvalid_0's auc: 0.996158\n",
            "[5500]\tvalid_0's auc: 0.996162\n",
            "[5550]\tvalid_0's auc: 0.996165\n",
            "[5600]\tvalid_0's auc: 0.996168\n",
            "[5650]\tvalid_0's auc: 0.996171\n",
            "[5700]\tvalid_0's auc: 0.996173\n",
            "[5750]\tvalid_0's auc: 0.996177\n",
            "[5800]\tvalid_0's auc: 0.99618\n",
            "[5850]\tvalid_0's auc: 0.996184\n",
            "[5900]\tvalid_0's auc: 0.996185\n",
            "[5950]\tvalid_0's auc: 0.996187\n",
            "[6000]\tvalid_0's auc: 0.996189\n",
            "[6050]\tvalid_0's auc: 0.996191\n",
            "[6100]\tvalid_0's auc: 0.996194\n",
            "[6150]\tvalid_0's auc: 0.996198\n",
            "[6200]\tvalid_0's auc: 0.9962\n",
            "[6250]\tvalid_0's auc: 0.9962\n",
            "[6300]\tvalid_0's auc: 0.996202\n",
            "[6350]\tvalid_0's auc: 0.996202\n",
            "[6400]\tvalid_0's auc: 0.996205\n",
            "[6450]\tvalid_0's auc: 0.996205\n",
            "[6500]\tvalid_0's auc: 0.996206\n",
            "[6550]\tvalid_0's auc: 0.996206\n",
            "[6600]\tvalid_0's auc: 0.996209\n",
            "[6650]\tvalid_0's auc: 0.99621\n",
            "[6700]\tvalid_0's auc: 0.996211\n",
            "[6750]\tvalid_0's auc: 0.996212\n",
            "[6800]\tvalid_0's auc: 0.996213\n",
            "[6850]\tvalid_0's auc: 0.996214\n",
            "[6900]\tvalid_0's auc: 0.996215\n",
            "[6950]\tvalid_0's auc: 0.996215\n",
            "[7000]\tvalid_0's auc: 0.996218\n",
            "[7050]\tvalid_0's auc: 0.996218\n",
            "[7100]\tvalid_0's auc: 0.996219\n",
            "[7150]\tvalid_0's auc: 0.996219\n",
            "[7200]\tvalid_0's auc: 0.99622\n",
            "[7250]\tvalid_0's auc: 0.99622\n",
            "[7300]\tvalid_0's auc: 0.99622\n",
            "[7350]\tvalid_0's auc: 0.996222\n",
            "[7400]\tvalid_0's auc: 0.996224\n",
            "[7450]\tvalid_0's auc: 0.996227\n",
            "[7500]\tvalid_0's auc: 0.996229\n",
            "[7550]\tvalid_0's auc: 0.996231\n",
            "[7600]\tvalid_0's auc: 0.996233\n",
            "[7650]\tvalid_0's auc: 0.996234\n",
            "[7700]\tvalid_0's auc: 0.996236\n",
            "[7750]\tvalid_0's auc: 0.996239\n",
            "[7800]\tvalid_0's auc: 0.99624\n",
            "[7850]\tvalid_0's auc: 0.996241\n",
            "[7900]\tvalid_0's auc: 0.996242\n",
            "[7950]\tvalid_0's auc: 0.996243\n",
            "[8000]\tvalid_0's auc: 0.996245\n",
            "[8050]\tvalid_0's auc: 0.996247\n",
            "[8100]\tvalid_0's auc: 0.996249\n",
            "[8150]\tvalid_0's auc: 0.99625\n",
            "[8200]\tvalid_0's auc: 0.996251\n",
            "[8250]\tvalid_0's auc: 0.996252\n",
            "[8300]\tvalid_0's auc: 0.996254\n",
            "[8350]\tvalid_0's auc: 0.996255\n",
            "[8400]\tvalid_0's auc: 0.996257\n",
            "[8450]\tvalid_0's auc: 0.996261\n",
            "[8500]\tvalid_0's auc: 0.996261\n",
            "[8550]\tvalid_0's auc: 0.996262\n",
            "[8600]\tvalid_0's auc: 0.996265\n",
            "[8650]\tvalid_0's auc: 0.996266\n",
            "[8700]\tvalid_0's auc: 0.996268\n",
            "[8750]\tvalid_0's auc: 0.996268\n",
            "[8800]\tvalid_0's auc: 0.996269\n",
            "[8850]\tvalid_0's auc: 0.996269\n",
            "[8900]\tvalid_0's auc: 0.996273\n",
            "[8950]\tvalid_0's auc: 0.996274\n",
            "[9000]\tvalid_0's auc: 0.99628\n",
            "[9050]\tvalid_0's auc: 0.996282\n",
            "[9100]\tvalid_0's auc: 0.996284\n",
            "[9150]\tvalid_0's auc: 0.996283\n",
            "[9200]\tvalid_0's auc: 0.996283\n",
            "[9250]\tvalid_0's auc: 0.996286\n",
            "[9300]\tvalid_0's auc: 0.996286\n",
            "[9350]\tvalid_0's auc: 0.996288\n",
            "[9400]\tvalid_0's auc: 0.99629\n",
            "[9450]\tvalid_0's auc: 0.996292\n",
            "[9500]\tvalid_0's auc: 0.996292\n",
            "[9550]\tvalid_0's auc: 0.996296\n",
            "[9600]\tvalid_0's auc: 0.996298\n",
            "[9650]\tvalid_0's auc: 0.996299\n",
            "[9700]\tvalid_0's auc: 0.9963\n",
            "[9750]\tvalid_0's auc: 0.996301\n",
            "[9800]\tvalid_0's auc: 0.996302\n",
            "[9850]\tvalid_0's auc: 0.996302\n",
            "[9900]\tvalid_0's auc: 0.996303\n",
            "[9950]\tvalid_0's auc: 0.996304\n",
            "[10000]\tvalid_0's auc: 0.996305\n",
            "[10050]\tvalid_0's auc: 0.996305\n",
            "[10100]\tvalid_0's auc: 0.996305\n",
            "[10150]\tvalid_0's auc: 0.996306\n",
            "[10200]\tvalid_0's auc: 0.996306\n",
            "[10250]\tvalid_0's auc: 0.996307\n",
            "[10300]\tvalid_0's auc: 0.996307\n",
            "[10350]\tvalid_0's auc: 0.996307\n",
            "[10400]\tvalid_0's auc: 0.996308\n",
            "[10450]\tvalid_0's auc: 0.996308\n",
            "[10500]\tvalid_0's auc: 0.996307\n",
            "[10550]\tvalid_0's auc: 0.996307\n",
            "[10600]\tvalid_0's auc: 0.996307\n",
            "Early stopping, best iteration is:\n",
            "[10408]\tvalid_0's auc: 0.996308\n",
            "runtime: 4166.19936132431\n"
          ],
          "name": "stdout"
        }
      ]
    },
    {
      "cell_type": "code",
      "metadata": {
        "id": "kXsc-q7uEaYg",
        "colab_type": "code",
        "colab": {}
      },
      "source": [
        "print('************** validate predict **************')\n",
        "best_rounds = clf.best_iteration_\n",
        "best_auc = clf.best_score_['valid_0']['auc']\n",
        "val_pred = clf.predict_proba(val_x)[:, 1]\n",
        "fea_imp_list.append(clf.feature_importances_)\n",
        "print('runtime:', time.time() - t)"
      ],
      "execution_count": 0,
      "outputs": []
    },
    {
      "cell_type": "code",
      "metadata": {
        "id": "n4UNJkjPEuJw",
        "colab_type": "code",
        "colab": {}
      },
      "source": [
        "clf = LGBMClassifier(\n",
        "    learning_rate=0.01,\n",
        "    n_estimators=best_rounds,\n",
        "    num_leaves=255,\n",
        "    subsample=0.9,\n",
        "    colsample_bytree=0.8,\n",
        "    random_state=2019\n",
        ")"
      ],
      "execution_count": 0,
      "outputs": []
    },
    {
      "cell_type": "code",
      "metadata": {
        "id": "bep-ayAzExtE",
        "colab_type": "code",
        "colab": {}
      },
      "source": [
        "clf.fit(\n",
        "    train_df, labels,\n",
        "    eval_set=[(train_df, labels)],\n",
        "    eval_metric='auc',\n",
        "    # categorical_feature=cate_cols,\n",
        "    early_stopping_rounds=200,\n",
        "    # early_stopping_rounds=50,\n",
        "    verbose=50\n",
        ")\n",
        "print('runtime:', time.time() - t)"
      ],
      "execution_count": 0,
      "outputs": []
    },
    {
      "cell_type": "code",
      "metadata": {
        "id": "Fx_ci391E1qD",
        "colab_type": "code",
        "colab": {}
      },
      "source": [
        "test_pre = pd.DataFrame(clf.predict_proba(test_df)[:, 1], columns=['flag_pred'])\n",
        "print('test_pre runtime:', time.time() - t)\n",
        "sub = pd.concat([test_df_source['hit_id'], test_pre,test_df_source['event_id']], axis=1)\n",
        "fea_imp_list.append(clf.feature_importances_)\n",
        "print('runtime:', time.time() - t)"
      ],
      "execution_count": 0,
      "outputs": []
    },
    {
      "cell_type": "code",
      "metadata": {
        "id": "rldwaf95E5oU",
        "colab_type": "code",
        "colab": {}
      },
      "source": [
        "# 特征重要性可以好好看看\n",
        "fea_imp_dict = dict(zip(train_df.columns.values, np.mean(fea_imp_list, axis=0)))\n",
        "fea_imp_item = sorted(fea_imp_dict.items(), key=lambda x: x[1], reverse=True)\n",
        "for f, imp in fea_imp_item:\n",
        "    print('{} = {}'.format(f, imp))"
      ],
      "execution_count": 0,
      "outputs": []
    },
    {
      "cell_type": "code",
      "metadata": {
        "id": "PQ4rlDgvFCiJ",
        "colab_type": "code",
        "colab": {}
      },
      "source": [
        "t0 = 0.05\n",
        "v = 0.002\n",
        "best_t = t0\n",
        "best_f1 = 0\n",
        "for step in range(475):\n",
        "    curr_t = t0 + step * v\n",
        "    y = [1 if x >= curr_t else 0 for x in val_pred]\n",
        "    curr_f1 = score(val_y, y)\n",
        "    if curr_f1 > best_f1:\n",
        "        best_t = curr_t\n",
        "        best_f1 = curr_f1\n",
        "        print('step: {}   best threshold: {}   best score: {}'.format(step, best_t, best_f1))\n",
        "print('search finish.')\n",
        "\n",
        "val_pred = [1 if x >= best_t else 0 for x in val_pred]\n",
        "print('\\nbest auc:', best_auc)\n",
        "print('best score:', score(val_y, val_pred))\n",
        "print('validate mean:', np.mean(val_pred))\n",
        "print('runtime:', time.time() - t)"
      ],
      "execution_count": 0,
      "outputs": []
    },
    {
      "cell_type": "code",
      "metadata": {
        "id": "Vchh8iC5FG8u",
        "colab_type": "code",
        "colab": {}
      },
      "source": [
        "sub.to_csv(\n",
        "    'C://Users//Lin//Desktop//PolyU//competition//turing_wuli//sub_prob_{}_{}_{}.csv'.format(best_auc, best_f1,\n",
        "                                                                                             sub[\n",
        "                                                                                                 'flag_pred'].mean()),\n",
        "    index=False)\n",
        "sub['flag_pred'] = sub['flag_pred'].apply(lambda x: 1 if x >= best_t else 0)\n",
        "sub.to_csv('C://Users//Lin//Desktop//PolyU//competition//turing_wuli//output//sub_{}_{}_{}.csv'.format(best_auc, best_f1,\n",
        "                                                                                            sub['flag_pred'].mean()),\n",
        "           index=False)\n",
        "print('runtime:', time.time() - t)\n",
        "print('finish.')"
      ],
      "execution_count": 0,
      "outputs": []
    }
  ]
}